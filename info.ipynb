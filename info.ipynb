{
 "cells": [
  {
   "cell_type": "markdown",
   "metadata": {},
   "source": [
    "# Inspect datasource\n",
    "\n",
    "As datasource I will use [pubmed search engine](https://pubmed.ncbi.nlm.nih.gov/?term=diabetes%20mellitus&filter=simsearch1.fha&filter=pubt.clinicaltrial&sort=date) by this link\n",
    "Collect representative data from the source. As many as possible.\n",
    "Download all the data and save it to the file. (folder datasets/1_raw)"
   ]
  },
  {
   "cell_type": "code",
   "execution_count": 1,
   "metadata": {
    "ExecuteTime": {
     "end_time": "2023-07-05T09:31:18.011448600Z",
     "start_time": "2023-07-05T09:31:17.991397500Z"
    }
   },
   "outputs": [
    {
     "name": "stdout",
     "output_type": "stream",
     "text": [
      "PMID- 37380983\n",
      "OWN - NLM\n",
      "STAT- MEDLINE\n",
      "DCOM- 20230630\n",
      "LR  - 20230702\n",
      "IS  - 1475-2840 (Electronic)\n",
      "IS  - 1475-2840 (Linking)\n",
      "VI  - 22\n",
      "IP  - 1\n",
      "DP  - 2023 Jun 28\n",
      "TI  - Left ventricular mass predicts cardiac reverse remodelling in patients treated \n",
      "      with empagliflozin.\n",
      "PG  - 152\n",
      "LID - 10.1186/s12933-023-01849-w [doi]\n",
      "LID - 152\n",
      "AB  - BACKGROUND: The cardiovascular (CV) benefits of sodium-glucose transport protein \n",
      "      2 inhibitors have been attributed, in part, to cardiac reverse remodelling. The \n",
      "      EMPA-HEART CardioLink-6 study reported that sodium-glucose cotransporter-2 \n",
      "      inhibition for 6 months with empagliflozin was associated with a significant \n",
      "      reduction in left ventricular mass indexed to body surface area (LVMi). In this \n",
      "      sub-analysis, we evaluated whether baseline LVMi may influence how empagliflozin \n",
      "      affects cardiac reverse remodelling. METHODS: A total of 97 patients with type 2 \n",
      "      diabetes and coronary artery disease were randomized to empa\n"
     ]
    }
   ],
   "source": [
    "from src.tools.file import read_file_as_string\n",
    "\n",
    "# read downloaded file\n",
    "raw_file_content = read_file_as_string('datasets/1_raw/pubmed-diabetesme-set.txt')\n",
    "print(raw_file_content[:1000])"
   ]
  },
  {
   "cell_type": "code",
   "execution_count": 2,
   "metadata": {
    "ExecuteTime": {
     "end_time": "2023-07-05T09:31:18.737510100Z",
     "start_time": "2023-07-05T09:31:18.009365900Z"
    }
   },
   "outputs": [
    {
     "data": {
      "text/plain": "                                               title  \\\n0   Left ventricular mass predicts cardiac revers...   \n1   Effects of therapeutic ultrasound on the endo...   \n2   A Pilot Study on the Efficacy of a Diabetic D...   \n3   Decreased branched-chain amino acids and elev...   \n4   Effects of a Web-Based Lifestyle Intervention...   \n\n                                            abstract  \n0   BACKGROUND: The cardiovascular (CV) benefits ...  \n1   Type 2 diabetes mellitus (T2DM) is characteri...  \n2   High sugar consumption increases the risk of ...  \n3   INTRODUCTION: Hypoglycemia is a major limitin...  \n4   BACKGROUND: The high proportion of people wit...  ",
      "text/html": "<div>\n<style scoped>\n    .dataframe tbody tr th:only-of-type {\n        vertical-align: middle;\n    }\n\n    .dataframe tbody tr th {\n        vertical-align: top;\n    }\n\n    .dataframe thead th {\n        text-align: right;\n    }\n</style>\n<table border=\"1\" class=\"dataframe\">\n  <thead>\n    <tr style=\"text-align: right;\">\n      <th></th>\n      <th>title</th>\n      <th>abstract</th>\n    </tr>\n  </thead>\n  <tbody>\n    <tr>\n      <th>0</th>\n      <td>Left ventricular mass predicts cardiac revers...</td>\n      <td>BACKGROUND: The cardiovascular (CV) benefits ...</td>\n    </tr>\n    <tr>\n      <th>1</th>\n      <td>Effects of therapeutic ultrasound on the endo...</td>\n      <td>Type 2 diabetes mellitus (T2DM) is characteri...</td>\n    </tr>\n    <tr>\n      <th>2</th>\n      <td>A Pilot Study on the Efficacy of a Diabetic D...</td>\n      <td>High sugar consumption increases the risk of ...</td>\n    </tr>\n    <tr>\n      <th>3</th>\n      <td>Decreased branched-chain amino acids and elev...</td>\n      <td>INTRODUCTION: Hypoglycemia is a major limitin...</td>\n    </tr>\n    <tr>\n      <th>4</th>\n      <td>Effects of a Web-Based Lifestyle Intervention...</td>\n      <td>BACKGROUND: The high proportion of people wit...</td>\n    </tr>\n  </tbody>\n</table>\n</div>"
     },
     "execution_count": 2,
     "metadata": {},
     "output_type": "execute_result"
    }
   ],
   "source": [
    "import pandas as pd\n",
    "from src.tools.pubmed import parse_pubmed_content\n",
    "\n",
    "# parse file content\n",
    "(titles, abstracts) = parse_pubmed_content(raw_file_content)\n",
    "\n",
    "# create df\n",
    "pubmed_df = pd.DataFrame({'title': titles, 'abstract': abstracts})\n",
    "pubmed_df.head()"
   ]
  },
  {
   "cell_type": "code",
   "execution_count": 3,
   "metadata": {
    "ExecuteTime": {
     "end_time": "2023-07-05T09:31:18.796958900Z",
     "start_time": "2023-07-05T09:31:18.740508200Z"
    }
   },
   "outputs": [
    {
     "name": "stdout",
     "output_type": "stream",
     "text": [
      "saved Left ventricular mass predicts cardiac reverse remodelling in patients tre...txt\n",
      "saved Effects of therapeutic ultrasound on the endothelial function of patients ...txt\n",
      "saved A Pilot Study on the Efficacy of a Diabetic Diet Containing the Rare Sugar...txt\n",
      "saved Decreased branched-chain amino acids and elevated fatty acids during antec...txt\n",
      "saved Effects of a Web-Based Lifestyle Intervention on Weight Loss and Cardiomet...txt\n",
      "saved Ultrasound guided versus blinded injection in trigger finger treatment: a ...txt\n",
      "saved How pictorial warnings change parents' purchases of sugar-sweetened bevera...txt\n",
      "saved Effect of the MySweetheart randomized controlled trial on birth, anthropom...txt\n",
      "saved Tofogliflozin long-term effects on atherosclerosis progression and major c...txt\n",
      "saved A randomized controlled trial for evaluating an occupational therapy self ...txt\n",
      "saved Online RCT of Icon Added-Sugar Warning Labels for Restaurant Menus.txt\n",
      "saved The Effectiveness of a Traditional Chinese Medicine-Based Mobile Health Ap...txt\n",
      "saved Implementation of Self-Care Deficits Assessment and a Nurse-Led Supportive...txt\n",
      "saved Does fasting plasma glucose values 51-56 mmol-l in the first trimester of ...txt\n",
      "saved Non-severe hypoglycemia in type 1 diabetes: a randomized crossover trial c...txt\n",
      "saved Ghrelin does not impact the blunted counterregulatory response to recurren...txt\n",
      "saved Establishment and evaluation of a novel practical tool for the diagnosis o...txt\n",
      "saved School-based peer-led diabetes intervention among female adolescents: a cl...txt\n",
      "saved Efficacy and safety of luseogliflozin in Caucasian patients with type 2 di...txt\n",
      "saved Effect of Mobile Phone Text Messaging Self-Management Support for Patients...txt\n",
      "saved Health care registers can be instrumental for endpoint capture in clinical...txt\n",
      "saved [Efficacy and safety of Cytoflavin in the treatment of diabetic polyneurop...txt\n",
      "saved Yoga Practice Facilitates Prefrontal Oxygenation and Working Memory in Typ...txt\n",
      "saved Cardiorenal protective effects of canagliflozin in CREDENCE according to g...txt\n",
      "saved Effect of Occupational Therapy in Promoting Medication Adherence in Primar...txt\n",
      "saved Effect and Safety of Pioglitazone-Metformin Tablets in the Treatment of Ne...txt\n",
      "saved Jinlida granules combined with metformin improved the standard-reaching ra...txt\n",
      "saved Prediction of mortality in pneumonia patients with connective tissue disea...txt\n",
      "saved Non-Nutritive Sweetened Beverages Impair Therapeutic Benefits of Metformin...txt\n",
      "saved Inflammatory Mediators and Type 2 Diabetes Risk Factors before and in Resp...txt\n"
     ]
    }
   ],
   "source": [
    "from src.tools.file import write_file\n",
    "import os\n",
    "\n",
    "# const with directories\n",
    "DIRECTORY_DATA = os.path.join('', 'datasets')\n",
    "DIRECTORY_TEXT = os.path.join(DIRECTORY_DATA, '2_cleaned')\n",
    "\n",
    "# split it to files and save\n",
    "for i in range(len(titles)):\n",
    "    # clean title\n",
    "    title = titles[i].replace('\\n', '').replace('\\r', '').replace('\\t', '').replace('\\v', '').replace('\\f', '').replace(\n",
    "        '?', '').replace('.', '').replace('/', '-')\n",
    "\n",
    "    # cut title if too long\n",
    "    title = (title[:75] + '..') if len(title) > 75 else title\n",
    "    file_name = title.strip() + \".txt\"\n",
    "\n",
    "    # select abstract\n",
    "    abstract = abstracts[i]\n",
    "\n",
    "    # save to separate file\n",
    "    write_file(os.path.join(DIRECTORY_TEXT, file_name), abstract)\n",
    "\n",
    "    print(f\"saved {file_name}\")"
   ]
  },
  {
   "cell_type": "code",
   "execution_count": 4,
   "metadata": {
    "ExecuteTime": {
     "end_time": "2023-07-05T09:31:18.838474800Z",
     "start_time": "2023-07-05T09:31:18.767708600Z"
    }
   },
   "outputs": [
    {
     "name": "stdout",
     "output_type": "stream",
     "text": [
      "saved 30 files\n"
     ]
    }
   ],
   "source": [
    "# check if all files are saved\n",
    "files = os.listdir(DIRECTORY_TEXT)\n",
    "print(f\"saved {len(files)} files\")"
   ]
  },
  {
   "cell_type": "markdown",
   "metadata": {},
   "source": []
  },
  {
   "cell_type": "markdown",
   "metadata": {},
   "source": [
    "# Mark your data\n",
    "[doccano](https://github.com/doccano/doccano) is a text annotation tool for humans.\n",
    "\n",
    "## Run the local service\n",
    "Import the processed files\n",
    "And mark them\n",
    "\n",
    "- We will mark text information\n",
    "- Create several labels for text:\n",
    "- - `disease`\n",
    "- - `drug`\n",
    "- - `subject` - person or animal"
   ]
  },
  {
   "cell_type": "code",
   "execution_count": 5,
   "metadata": {
    "ExecuteTime": {
     "end_time": "2023-07-05T09:31:22.828501Z",
     "start_time": "2023-07-05T09:31:18.780958300Z"
    }
   },
   "outputs": [
    {
     "name": "stderr",
     "output_type": "stream",
     "text": [
      " Container j1-postgres-1  Created\n",
      " Container j1-backend-1  Created\n",
      " Container j1-rabbitmq-1  Created\n",
      " Container j1-nginx-1  Created\n",
      " Container j1-celery-1  Created\n",
      " Container j1-flower-1  Created\n",
      " Container j1-postgres-1  Starting\n",
      " Container j1-rabbitmq-1  Starting\n",
      " Container j1-postgres-1  Started\n",
      " Container j1-backend-1  Starting\n",
      " Container j1-rabbitmq-1  Started\n",
      " Container j1-celery-1  Starting\n",
      " Container j1-celery-1  Started\n",
      " Container j1-flower-1  Starting\n",
      " Container j1-backend-1  Started\n",
      " Container j1-nginx-1  Starting\n",
      " Container j1-nginx-1  Started\n",
      " Container j1-flower-1  Started\n"
     ]
    },
    {
     "name": "stdout",
     "output_type": "stream",
     "text": [
      "NAME                IMAGE                      COMMAND                  SERVICE             CREATED             STATUS                  PORTS\n",
      "j1-backend-1        doccano/doccano:backend    \"/opt/bin/prod-djang…\"   backend             6 days ago          Up 1 second             \n",
      "j1-celery-1         doccano/doccano:backend    \"/opt/bin/prod-celer…\"   celery              6 days ago          Up 1 second             \n",
      "j1-flower-1         doccano/doccano:backend    \"/opt/bin/prod-flowe…\"   flower              2 days ago          Up Less than a second   0.0.0.0:5555->5555/tcp\n",
      "j1-nginx-1          doccano/doccano:frontend   \"/docker-entrypoint.…\"   nginx               2 days ago          Up Less than a second   80/tcp, 0.0.0.0:80->8080/tcp\n",
      "j1-postgres-1       postgres:13.3-alpine       \"docker-entrypoint.s…\"   postgres            6 days ago          Up 2 seconds            5432/tcp\n",
      "j1-rabbitmq-1       rabbitmq:3.10.7-alpine     \"docker-entrypoint.s…\"   rabbitmq            6 days ago          Up 2 seconds            4369/tcp, 5671/tcp, 15691-15692/tcp, 25672/tcp, 0.0.0.0:5672->5672/tcp\n"
     ]
    }
   ],
   "source": [
    "%%bash\n",
    "# startup doccano\n",
    "docker compose up -d\n",
    "\n",
    "# check if it is running\n",
    "docker compose ps"
   ]
  },
  {
   "cell_type": "code",
   "execution_count": 6,
   "metadata": {
    "ExecuteTime": {
     "end_time": "2023-07-05T09:31:22.853233700Z",
     "start_time": "2023-07-05T09:31:22.812412100Z"
    }
   },
   "outputs": [
    {
     "name": "stdout",
     "output_type": "stream",
     "text": [
      "{\"id\":54,\"text\":\" OBJECTIVE: The purpose of the present double-blind, placebo-controlled, randomized clinical trial was to evaluate the efficacy and safety of Cytoflavin in patients with diabetic polyneuropathy (DPN). MATERIAL AND METHODS: Investigational therapy was administered in two steps: intravenous infusions of experimental drug\\/placebo for 10 days followed by oral administration for 75 days. In 10 clinical centers, 216 patients aged 45-74 years with a diagnosis of type 2 diabetes mellitus, symptomatic distal sensorimotor DPN, confirmed no earlier than 1 year before screening, on stable therapy (no change of drugs and doses) by oral hypoglycemic drugs, intermediate-acting, long-acting or extra-long-acting insulin, and\\/or GLP-1 receptor agonists. RESULTS: By the end of treatment, the change of the Total Symptom Score (TSS) in the experimental group was -2.65 points, in the placebo group -1.73 points (p<0.001). Improvement of symptoms in the experimental group was achieved regar\n"
     ]
    }
   ],
   "source": [
    "# after exported dataset from doccano\n",
    "# import it to the project\n",
    "from src.tools.file import read_file_as_string\n",
    "\n",
    "DIRECTORY_EXPORTED = os.path.join(DIRECTORY_DATA, '3_exported')\n",
    "EXPORTED_FILE_PATH = os.path.join(DIRECTORY_EXPORTED, 'admin.jsonl')\n",
    "\n",
    "marked_dataset = read_file_as_string(EXPORTED_FILE_PATH)\n",
    "print(marked_dataset[:1000])"
   ]
  },
  {
   "cell_type": "code",
   "execution_count": 7,
   "metadata": {
    "ExecuteTime": {
     "end_time": "2023-07-05T09:31:22.854248900Z",
     "start_time": "2023-07-05T09:31:22.828501Z"
    }
   },
   "outputs": [
    {
     "data": {
      "text/plain": "                                              prompt  \\\n0  OBJECTIVE: The purpose of the present double-b...   \n1  High sugar consumption increases the risk of d...   \n2  INTRODUCTION: Relationships between glycemic-l...   \n3  This study evaluated the efficacy of the Occup...   \n4  OBJECTIVES: The aim of the study was to invest...   \n\n                                          completion  \n0   diabetic polyneuropathy\\nic\\ntype 2 diabetes ...  \n1     diabetes\\npatients\\ntype 2 diabetes\\n\\n###\\n\\n  \n2   s of canaglifl\\nDiabetes\\nindividuals\\n\\n###\\n\\n  \n3   Occupational Therapy Diabetes Self-Management...  \n4   FPG\\nfasting plasma glucose\\npregnant women\\n...  ",
      "text/html": "<div>\n<style scoped>\n    .dataframe tbody tr th:only-of-type {\n        vertical-align: middle;\n    }\n\n    .dataframe tbody tr th {\n        vertical-align: top;\n    }\n\n    .dataframe thead th {\n        text-align: right;\n    }\n</style>\n<table border=\"1\" class=\"dataframe\">\n  <thead>\n    <tr style=\"text-align: right;\">\n      <th></th>\n      <th>prompt</th>\n      <th>completion</th>\n    </tr>\n  </thead>\n  <tbody>\n    <tr>\n      <th>0</th>\n      <td>OBJECTIVE: The purpose of the present double-b...</td>\n      <td>diabetic polyneuropathy\\nic\\ntype 2 diabetes ...</td>\n    </tr>\n    <tr>\n      <th>1</th>\n      <td>High sugar consumption increases the risk of d...</td>\n      <td>diabetes\\npatients\\ntype 2 diabetes\\n\\n###\\n\\n</td>\n    </tr>\n    <tr>\n      <th>2</th>\n      <td>INTRODUCTION: Relationships between glycemic-l...</td>\n      <td>s of canaglifl\\nDiabetes\\nindividuals\\n\\n###\\n\\n</td>\n    </tr>\n    <tr>\n      <th>3</th>\n      <td>This study evaluated the efficacy of the Occup...</td>\n      <td>Occupational Therapy Diabetes Self-Management...</td>\n    </tr>\n    <tr>\n      <th>4</th>\n      <td>OBJECTIVES: The aim of the study was to invest...</td>\n      <td>FPG\\nfasting plasma glucose\\npregnant women\\n...</td>\n    </tr>\n  </tbody>\n</table>\n</div>"
     },
     "execution_count": 7,
     "metadata": {},
     "output_type": "execute_result"
    }
   ],
   "source": [
    "from src.tools.doccano import parse_doccano_content\n",
    "\n",
    "# parse marked dataset\n",
    "doccano_parsed = parse_doccano_content(marked_dataset)\n",
    "ready_df = pd.DataFrame(doccano_parsed)\n",
    "ready_df.head()"
   ]
  },
  {
   "cell_type": "code",
   "execution_count": 8,
   "metadata": {
    "ExecuteTime": {
     "end_time": "2023-07-05T09:31:22.867818100Z",
     "start_time": "2023-07-05T09:31:22.848695Z"
    }
   },
   "outputs": [
    {
     "name": "stdout",
     "output_type": "stream",
     "text": [
      "validation dataset size: 5\n",
      "training dataset size: 21\n"
     ]
    }
   ],
   "source": [
    "# split dataset to train and test\n",
    "\n",
    "validation_dataset = doccano_parsed[0:5]\n",
    "training_dataset = doccano_parsed[5:]\n",
    "\n",
    "print(f\"validation dataset size: {len(validation_dataset)}\")\n",
    "print(f\"training dataset size: {len(training_dataset)}\")"
   ]
  },
  {
   "cell_type": "code",
   "execution_count": 9,
   "metadata": {
    "ExecuteTime": {
     "end_time": "2023-07-05T09:31:22.964278900Z",
     "start_time": "2023-07-05T09:31:22.858253100Z"
    }
   },
   "outputs": [],
   "source": [
    "# save datasets to files\n",
    "from src.tools.file import write_file\n",
    "\n",
    "DIRECTORY_READY = os.path.join(DIRECTORY_DATA, '4_ready')\n",
    "TRAINING_DATASET_NAME = 'training_dataset.jsonl'\n",
    "VALIDATION_DATASET_NAME = 'validation_dataset.jsonl'\n",
    "\n",
    "# create dataframes\n",
    "df_training = pd.DataFrame([vars(f) for f in training_dataset])\n",
    "df_validation = pd.DataFrame([vars(f) for f in validation_dataset])\n",
    "\n",
    "# create filepaths\n",
    "training_file_path = os.path.join(DIRECTORY_READY, TRAINING_DATASET_NAME)\n",
    "validation_file_path = os.path.join(DIRECTORY_READY, VALIDATION_DATASET_NAME)\n",
    "\n",
    "# save to files\n",
    "write_file(training_file_path, df_training.to_json(lines=True, orient='records'))\n",
    "write_file(validation_file_path, df_validation.to_json(lines=True, orient='records'))"
   ]
  },
  {
   "cell_type": "markdown",
   "metadata": {},
   "source": [
    "# Train the model\n",
    "[finetune](https://beta.openai.com/docs/guides/fine-tuning) the model with your data.\n",
    "Now we need to send our data to the OpenAI API and train the model.\n",
    "\n",
    "```bash\n",
    "# set api key\n",
    "$env:OPENAI_API_KEY=\"YOUR_API_KEY\"\n",
    "\n",
    "# send data to the api\n",
    "openai api fine_tunes.create \\\n",
    "  --training-file \"datasets/4_ready/training_dataset.jsonl\" \\\n",
    "  --validation-file \"datasets/4_ready/validation_dataset.jsonl\" \\\n",
    "  --model ada \\\n",
    "  --learning-rate 5e-5 \\\n",
    "  --batch-size 4 \\\n",
    "  --validation-split 0.1 \\\n",
    "  --epochs 5 \\\n",
    "  --suffix \"j1-abs-2023-07-02\"\n",
    "```\n",
    "\n",
    "Do not forget to write up the ft id and model id!\n",
    "ft_id = 'ft-uOzqOs400l8kg0b9yv0hZh0L'\n",
    "model_id = 'ada:ft-personal:j1-abs-2023-07-02-20-56-14'\n",
    "\n",
    "## Useful commands\n",
    "```bash\n",
    "# follow\n",
    "openai api fine_tunes.follow -i ft-XXXXXX\n",
    "\n",
    "# list all models\n",
    "openai api models.list\n",
    "\n",
    "# list all finetunes\n",
    "openai api fine_tunes.list\n",
    "\n",
    "# retrieve finetune\n",
    "openai api fine-tunes.retrieve --id ft-XXXXXX\n",
    "\n",
    "# results\n",
    "openai api fine_tunes.results --id ft-XXXXXX\n",
    "\n",
    "# delete finetune\n",
    "openai api fine_tunes.delete --id ft-XXXXXX\n",
    "```"
   ]
  },
  {
   "cell_type": "markdown",
   "metadata": {},
   "source": [
    "# Lets try!\n",
    "In the dataset we have only diabetes mellitus type 2. Lets try to run the model with prompt from the article with no diabetes mellitus type 2.\n",
    "[I took this one](https://pubmed.ncbi.nlm.nih.gov/35971155/)"
   ]
  },
  {
   "cell_type": "code",
   "execution_count": 25,
   "metadata": {
    "ExecuteTime": {
     "end_time": "2023-07-05T09:46:14.821226Z",
     "start_time": "2023-07-05T09:46:14.793813400Z"
    }
   },
   "outputs": [
    {
     "name": "stdout",
     "output_type": "stream",
     "text": [
      "BACKGROUND: Coronavirus disease-19 (COVID-19) infection causes persistent health\n",
      "problems such as breathlessness, chest pain and fatigue, and therapies for the \n",
      "prevention and early treatment of post-COVID-19 syndromes are needed. \n",
      "Accordingly, we are investigating the effect of a resistance exercise \n",
      "intervention on exercise capacity and health status following COVID-19 \n",
      "infection.\n",
      "METHODS: A two-arm randomised, controlled clinical trial including 220 adults \n",
      "with a diagnosis of COVID-19 in the preceding 6 months. Participants will be \n",
      "classified according to clinical presentation: Group A, not hospitalised due to \n",
      "COVID but persisting symptoms for at least 4 weeks leading to medical review; \n",
      "Group B, discharged after an admission for COVID and with persistent symptoms \n",
      "for at least 4 weeks; or Group C, convalescing in hospital after an admission \n",
      "for COVID. Participants will be randomised to usual care or usual care plus a \n",
      "personalised and pragmatic resistance exercise intervention \n"
     ]
    }
   ],
   "source": [
    "import env\n",
    "import openai\n",
    "\n",
    "# import os if not\n",
    "import os\n",
    "\n",
    "# ft model id\n",
    "ft_ada_id = 'ft-uOzqOs400l8kg0b9yv0hZh0L'\n",
    "ft_curie_id = 'ft-U61qjWKCWzCyDXjyhNphLwF3'\n",
    "ft_babbage = 'ft-pwIUGj8qxPKPXhG2ZltP3OML'\n",
    "ft_davinci_id = 'ft-8ppSifUvfzXdiGmqeq2kU5Z7'\n",
    "\n",
    "# model itself id\n",
    "model_ada_id = 'ada:ft-personal:j1-abs-2023-07-02-20-56-14'\n",
    "model_curie_id = 'curie:ft-personal-2023-07-03-17-28-26'\n",
    "model_babbage_id = 'babbage:ft-personal-2023-07-03-17-29-44'\n",
    "model_davinci_id = 'davinci:ft-personal:j1-abs-2023-07-02-2023-07-02-23-21-33'\n",
    "\n",
    "TEST_PROMPT_DIRECTORY = os.path.join(DIRECTORY_DATA, '5_test_prompts')\n",
    "TEST_PROMPT_FILE_NAME = 'test_prompt.txt'\n",
    "\n",
    "test_prompt = read_file_as_string(os.path.join(TEST_PROMPT_DIRECTORY, TEST_PROMPT_FILE_NAME))\n",
    "print(test_prompt[0:1000])"
   ]
  },
  {
   "cell_type": "code",
   "execution_count": 28,
   "metadata": {
    "ExecuteTime": {
     "end_time": "2023-07-05T09:48:50.118298500Z",
     "start_time": "2023-07-05T09:48:45.032146200Z"
    }
   },
   "outputs": [
    {
     "data": {
      "text/plain": "                        ada         curie babbage                 davinci  \\\n0    Coronavirus disease-19                                                 \n1              participants  Participants     ###  Coronavirus disease-19   \n2                                                                COVID-19   \n3                       ###           ###                      persistent   \n4                                             ###                     NaN   \n5                     Coron                                           NaN   \n6                       NaN                                           NaN   \n7                       NaN           ###     ###                     NaN   \n8                       NaN                                           NaN   \n9                       NaN                                           NaN   \n10                      NaN                   ###                     NaN   \n11                      NaN  Participants                             NaN   \n12                      NaN                                           NaN   \n13                      NaN           NaN     ###                     NaN   \n14                      NaN           NaN                             NaN   \n15                      NaN           NaN                             NaN   \n16                      NaN           NaN                             NaN   \n\n                              ada                          curie  \\\n0                           Women                       patients   \n1                           women  gestational diabetes mellitus   \n2   gestational diabetes mellitus                                  \n3                                                            ###   \n4                             ###                                  \n5                                                          women   \n6                           Women                                  \n7                           women                            ###   \n8                             NaN                                  \n9                             NaN                                  \n10                            NaN                            NaN   \n11                            NaN                            NaN   \n12                            NaN                            NaN   \n13                            NaN                            NaN   \n14                            NaN                            NaN   \n15                            NaN                            NaN   \n16                            NaN                            NaN   \n\n                          babbage                        davinci       ada  \\\n0                           Women                                     type   \n1   gestational diabetes mellitus                          Women  patients   \n2                                                                            \n3                             ###  Gestational diabetes mellitus       ###   \n4                                                                            \n5                                                           OGTT      type   \n6                             ###                                 patients   \n7                                                                            \n8                        patients                            NaN       ###   \n9                                                            NaN             \n10                            NaN                            NaN             \n11                            NaN                            NaN       NaN   \n12                            NaN                            NaN       NaN   \n13                            NaN                            NaN       NaN   \n14                            NaN                            NaN       NaN   \n15                            NaN                            NaN       NaN   \n16                            NaN                            NaN       NaN   \n\n                  curie      babbage  \\\n0              patients                \n1   Parkinson's disease  ###Patients   \n2                                      \n3                    ##  ###Patients   \n4                                      \n5              patients  ###Patients   \n6                  Park                \n7                                      \n8                    ##          NaN   \n9                   NaN          NaN   \n10                  NaN          NaN   \n11                  NaN          NaN   \n12                  NaN          NaN   \n13                  NaN          NaN   \n14                  NaN          NaN   \n15                  NaN          NaN   \n16                  NaN          NaN   \n\n                                              davinci  \n0                                                      \n1   METHODS: Thirty-five elderly patients were ran...  \n2                                                 NaN  \n3                                                 NaN  \n4                                                 NaN  \n5                                                 NaN  \n6                                                 NaN  \n7                                                 NaN  \n8                                                 NaN  \n9                                                 NaN  \n10                                                NaN  \n11                                                NaN  \n12                                                NaN  \n13                                                NaN  \n14                                                NaN  \n15                                                NaN  \n16                                                NaN  ",
      "text/html": "<div>\n<style scoped>\n    .dataframe tbody tr th:only-of-type {\n        vertical-align: middle;\n    }\n\n    .dataframe tbody tr th {\n        vertical-align: top;\n    }\n\n    .dataframe thead th {\n        text-align: right;\n    }\n</style>\n<table border=\"1\" class=\"dataframe\">\n  <thead>\n    <tr style=\"text-align: right;\">\n      <th></th>\n      <th>ada</th>\n      <th>curie</th>\n      <th>babbage</th>\n      <th>davinci</th>\n      <th>ada</th>\n      <th>curie</th>\n      <th>babbage</th>\n      <th>davinci</th>\n      <th>ada</th>\n      <th>curie</th>\n      <th>babbage</th>\n      <th>davinci</th>\n    </tr>\n  </thead>\n  <tbody>\n    <tr>\n      <th>0</th>\n      <td>Coronavirus disease-19</td>\n      <td></td>\n      <td></td>\n      <td></td>\n      <td>Women</td>\n      <td>patients</td>\n      <td>Women</td>\n      <td></td>\n      <td>type</td>\n      <td>patients</td>\n      <td></td>\n      <td></td>\n    </tr>\n    <tr>\n      <th>1</th>\n      <td>participants</td>\n      <td>Participants</td>\n      <td>###</td>\n      <td>Coronavirus disease-19</td>\n      <td>women</td>\n      <td>gestational diabetes mellitus</td>\n      <td>gestational diabetes mellitus</td>\n      <td>Women</td>\n      <td>patients</td>\n      <td>Parkinson's disease</td>\n      <td>###Patients</td>\n      <td>METHODS: Thirty-five elderly patients were ran...</td>\n    </tr>\n    <tr>\n      <th>2</th>\n      <td></td>\n      <td></td>\n      <td></td>\n      <td>COVID-19</td>\n      <td>gestational diabetes mellitus</td>\n      <td></td>\n      <td></td>\n      <td></td>\n      <td></td>\n      <td></td>\n      <td></td>\n      <td>NaN</td>\n    </tr>\n    <tr>\n      <th>3</th>\n      <td>###</td>\n      <td>###</td>\n      <td></td>\n      <td>persistent</td>\n      <td></td>\n      <td>###</td>\n      <td>###</td>\n      <td>Gestational diabetes mellitus</td>\n      <td>###</td>\n      <td>##</td>\n      <td>###Patients</td>\n      <td>NaN</td>\n    </tr>\n    <tr>\n      <th>4</th>\n      <td></td>\n      <td></td>\n      <td>###</td>\n      <td>NaN</td>\n      <td>###</td>\n      <td></td>\n      <td></td>\n      <td></td>\n      <td></td>\n      <td></td>\n      <td></td>\n      <td>NaN</td>\n    </tr>\n    <tr>\n      <th>5</th>\n      <td>Coron</td>\n      <td></td>\n      <td></td>\n      <td>NaN</td>\n      <td></td>\n      <td>women</td>\n      <td></td>\n      <td>OGTT</td>\n      <td>type</td>\n      <td>patients</td>\n      <td>###Patients</td>\n      <td>NaN</td>\n    </tr>\n    <tr>\n      <th>6</th>\n      <td>NaN</td>\n      <td></td>\n      <td></td>\n      <td>NaN</td>\n      <td>Women</td>\n      <td></td>\n      <td>###</td>\n      <td></td>\n      <td>patients</td>\n      <td>Park</td>\n      <td></td>\n      <td>NaN</td>\n    </tr>\n    <tr>\n      <th>7</th>\n      <td>NaN</td>\n      <td>###</td>\n      <td>###</td>\n      <td>NaN</td>\n      <td>women</td>\n      <td>###</td>\n      <td></td>\n      <td></td>\n      <td></td>\n      <td></td>\n      <td></td>\n      <td>NaN</td>\n    </tr>\n    <tr>\n      <th>8</th>\n      <td>NaN</td>\n      <td></td>\n      <td></td>\n      <td>NaN</td>\n      <td>NaN</td>\n      <td></td>\n      <td>patients</td>\n      <td>NaN</td>\n      <td>###</td>\n      <td>##</td>\n      <td>NaN</td>\n      <td>NaN</td>\n    </tr>\n    <tr>\n      <th>9</th>\n      <td>NaN</td>\n      <td></td>\n      <td></td>\n      <td>NaN</td>\n      <td>NaN</td>\n      <td></td>\n      <td></td>\n      <td>NaN</td>\n      <td></td>\n      <td>NaN</td>\n      <td>NaN</td>\n      <td>NaN</td>\n    </tr>\n    <tr>\n      <th>10</th>\n      <td>NaN</td>\n      <td></td>\n      <td>###</td>\n      <td>NaN</td>\n      <td>NaN</td>\n      <td>NaN</td>\n      <td>NaN</td>\n      <td>NaN</td>\n      <td></td>\n      <td>NaN</td>\n      <td>NaN</td>\n      <td>NaN</td>\n    </tr>\n    <tr>\n      <th>11</th>\n      <td>NaN</td>\n      <td>Participants</td>\n      <td></td>\n      <td>NaN</td>\n      <td>NaN</td>\n      <td>NaN</td>\n      <td>NaN</td>\n      <td>NaN</td>\n      <td>NaN</td>\n      <td>NaN</td>\n      <td>NaN</td>\n      <td>NaN</td>\n    </tr>\n    <tr>\n      <th>12</th>\n      <td>NaN</td>\n      <td></td>\n      <td></td>\n      <td>NaN</td>\n      <td>NaN</td>\n      <td>NaN</td>\n      <td>NaN</td>\n      <td>NaN</td>\n      <td>NaN</td>\n      <td>NaN</td>\n      <td>NaN</td>\n      <td>NaN</td>\n    </tr>\n    <tr>\n      <th>13</th>\n      <td>NaN</td>\n      <td>NaN</td>\n      <td>###</td>\n      <td>NaN</td>\n      <td>NaN</td>\n      <td>NaN</td>\n      <td>NaN</td>\n      <td>NaN</td>\n      <td>NaN</td>\n      <td>NaN</td>\n      <td>NaN</td>\n      <td>NaN</td>\n    </tr>\n    <tr>\n      <th>14</th>\n      <td>NaN</td>\n      <td>NaN</td>\n      <td></td>\n      <td>NaN</td>\n      <td>NaN</td>\n      <td>NaN</td>\n      <td>NaN</td>\n      <td>NaN</td>\n      <td>NaN</td>\n      <td>NaN</td>\n      <td>NaN</td>\n      <td>NaN</td>\n    </tr>\n    <tr>\n      <th>15</th>\n      <td>NaN</td>\n      <td>NaN</td>\n      <td></td>\n      <td>NaN</td>\n      <td>NaN</td>\n      <td>NaN</td>\n      <td>NaN</td>\n      <td>NaN</td>\n      <td>NaN</td>\n      <td>NaN</td>\n      <td>NaN</td>\n      <td>NaN</td>\n    </tr>\n    <tr>\n      <th>16</th>\n      <td>NaN</td>\n      <td>NaN</td>\n      <td></td>\n      <td>NaN</td>\n      <td>NaN</td>\n      <td>NaN</td>\n      <td>NaN</td>\n      <td>NaN</td>\n      <td>NaN</td>\n      <td>NaN</td>\n      <td>NaN</td>\n      <td>NaN</td>\n    </tr>\n  </tbody>\n</table>\n</div>"
     },
     "execution_count": 28,
     "metadata": {},
     "output_type": "execute_result"
    }
   ],
   "source": [
    "# lets check\n",
    "prompt = test_prompt + \"\\n\\n##\\n\\n\"\n",
    "\n",
    "openai.api_key = env.OPENAI_API_KEY\n",
    "temperature = 0.0\n",
    "\n",
    "series = []\n",
    "\n",
    "# for each model run the prompt\n",
    "for (m_id, name) in((model_ada_id, 'ada'), (model_curie_id, 'curie'), (model_babbage_id, 'babbage'), (model_davinci_id, 'davinci')):\n",
    "    response = openai.Completion.create(\n",
    "        model=m_id,\n",
    "        temperature=temperature,\n",
    "        prompt=prompt,\n",
    "    )\n",
    "    series.append(pd.Series(response['choices'][0]['text'].split('\\n'), name=name))\n",
    "\n",
    "df = pd.concat(series, axis=1)\n",
    "df"
   ]
  }
 ],
 "metadata": {
  "kernelspec": {
   "display_name": "Python 3 (ipykernel)",
   "language": "python",
   "name": "python3"
  },
  "language_info": {
   "codemirror_mode": {
    "name": "ipython",
    "version": 3
   },
   "file_extension": ".py",
   "mimetype": "text/x-python",
   "name": "python",
   "nbconvert_exporter": "python",
   "pygments_lexer": "ipython3",
   "version": "3.11.3"
  }
 },
 "nbformat": 4,
 "nbformat_minor": 1
}
